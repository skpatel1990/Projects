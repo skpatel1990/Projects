{
 "cells": [
  {
   "cell_type": "markdown",
   "metadata": {},
   "source": [
    "# Classifying Dog Breeds with Keras\n",
    "## Abe Eyman Casey & Sameer Patel\n",
    "The following code takes approximately 8 hours to run. Avoid running until necessary."
   ]
  },
  {
   "cell_type": "code",
   "execution_count": 1,
   "metadata": {},
   "outputs": [],
   "source": [
    "import keras\n",
    "from keras_preprocessing.image import ImageDataGenerator\n",
    "import matplotlib.pyplot as plt\n",
    "from mpl_toolkits.axes_grid1 import ImageGrid\n",
    "import numpy as np\n",
    "import os\n",
    "import pandas as pd\n",
    "import seaborn as sns\n",
    "import tensorflow as tf\n",
    "import warnings\n",
    "\n",
    "warnings.filterwarnings('ignore')"
   ]
  },
  {
   "cell_type": "markdown",
   "metadata": {},
   "source": [
    "# Research Question\n",
    "The intent of this analysis is to use machine learning methodologies and accessory data science tools to determine whether a neural network can be trained to accurately predict a dog breed based on \"looking\" at an image containing a dog. \n",
    "\n",
    "This exploration will consist of the following:  \n",
    "* Loading the data  \n",
    "* Exploratory data analysis (EDA)  \n",
    "* Data preprocessing  \n",
    "* Model building\n",
    "   - Keras Convolutional Neural Network  \n",
    "* Model evaluation / visualizations\n",
    "* Conclusion / future analyses\n",
    "\n",
    "The conclusion will assess the efficacy of the trained neural network based on the metrics returned in the model evaluation phase, as well as suggest future routes of exploration related to this problem."
   ]
  },
  {
   "cell_type": "markdown",
   "metadata": {},
   "source": [
    "# Load the Data\n",
    "https://www.kaggle.com/c/dog-breed-identification/overview  \n",
    "The data set contains a training set and a test set of images of dogs.  \n",
    "For this exploration, we will exclusively use the training set (train.zip), but will split it in order to obtain a labeled test set.  \n",
    "The training set contains over 10,000 images split into 120 breeds of dogs. Because of this, the data is not available in the Git repository, and will need to be downloaded separately from the link provided above (if running this code on a new machine).\n",
    "\n",
    "Each image has a filename that is its unique id."
   ]
  },
  {
   "cell_type": "code",
   "execution_count": 3,
   "metadata": {},
   "outputs": [
    {
     "name": "stdout",
     "output_type": "stream",
     "text": [
      "Number of Images: 10222\n"
     ]
    }
   ],
   "source": [
    "#Return number of images in the training data directory (saved locally to the path given below)\n",
    "train_path = 'data/train'\n",
    "train_size = len(os.listdir(train_path))\n",
    "print(\"Number of Images: %s\" % train_size)"
   ]
  },
  {
   "cell_type": "code",
   "execution_count": 4,
   "metadata": {},
   "outputs": [
    {
     "data": {
      "text/html": [
       "<div>\n",
       "<style scoped>\n",
       "    .dataframe tbody tr th:only-of-type {\n",
       "        vertical-align: middle;\n",
       "    }\n",
       "\n",
       "    .dataframe tbody tr th {\n",
       "        vertical-align: top;\n",
       "    }\n",
       "\n",
       "    .dataframe thead th {\n",
       "        text-align: right;\n",
       "    }\n",
       "</style>\n",
       "<table border=\"1\" class=\"dataframe\">\n",
       "  <thead>\n",
       "    <tr style=\"text-align: right;\">\n",
       "      <th></th>\n",
       "      <th>id</th>\n",
       "      <th>breed</th>\n",
       "    </tr>\n",
       "  </thead>\n",
       "  <tbody>\n",
       "    <tr>\n",
       "      <th>0</th>\n",
       "      <td>000bec180eb18c7604dcecc8fe0dba07</td>\n",
       "      <td>boston_bull</td>\n",
       "    </tr>\n",
       "    <tr>\n",
       "      <th>1</th>\n",
       "      <td>001513dfcb2ffafc82cccf4d8bbaba97</td>\n",
       "      <td>dingo</td>\n",
       "    </tr>\n",
       "    <tr>\n",
       "      <th>2</th>\n",
       "      <td>001cdf01b096e06d78e9e5112d419397</td>\n",
       "      <td>pekinese</td>\n",
       "    </tr>\n",
       "    <tr>\n",
       "      <th>3</th>\n",
       "      <td>00214f311d5d2247d5dfe4fe24b2303d</td>\n",
       "      <td>bluetick</td>\n",
       "    </tr>\n",
       "    <tr>\n",
       "      <th>4</th>\n",
       "      <td>0021f9ceb3235effd7fcde7f7538ed62</td>\n",
       "      <td>golden_retriever</td>\n",
       "    </tr>\n",
       "  </tbody>\n",
       "</table>\n",
       "</div>"
      ],
      "text/plain": [
       "                                 id             breed\n",
       "0  000bec180eb18c7604dcecc8fe0dba07       boston_bull\n",
       "1  001513dfcb2ffafc82cccf4d8bbaba97             dingo\n",
       "2  001cdf01b096e06d78e9e5112d419397          pekinese\n",
       "3  00214f311d5d2247d5dfe4fe24b2303d          bluetick\n",
       "4  0021f9ceb3235effd7fcde7f7538ed62  golden_retriever"
      ]
     },
     "execution_count": 4,
     "metadata": {},
     "output_type": "execute_result"
    }
   ],
   "source": [
    "labels_df = pd.read_csv('data/labels.csv')\n",
    "labels_df.head()"
   ]
  },
  {
   "cell_type": "code",
   "execution_count": 5,
   "metadata": {},
   "outputs": [
    {
     "name": "stdout",
     "output_type": "stream",
     "text": [
      "Number of dog breeds: 120\n",
      "\n",
      "List of Unique Breeds:\n",
      "['affenpinscher' 'afghan_hound' 'african_hunting_dog' 'airedale'\n",
      " 'american_staffordshire_terrier' 'appenzeller' 'australian_terrier'\n",
      " 'basenji' 'basset' 'beagle' 'bedlington_terrier' 'bernese_mountain_dog'\n",
      " 'black-and-tan_coonhound' 'blenheim_spaniel' 'bloodhound' 'bluetick'\n",
      " 'border_collie' 'border_terrier' 'borzoi' 'boston_bull'\n",
      " 'bouvier_des_flandres' 'boxer' 'brabancon_griffon' 'briard'\n",
      " 'brittany_spaniel' 'bull_mastiff' 'cairn' 'cardigan'\n",
      " 'chesapeake_bay_retriever' 'chihuahua' 'chow' 'clumber' 'cocker_spaniel'\n",
      " 'collie' 'curly-coated_retriever' 'dandie_dinmont' 'dhole' 'dingo'\n",
      " 'doberman' 'english_foxhound' 'english_setter' 'english_springer'\n",
      " 'entlebucher' 'eskimo_dog' 'flat-coated_retriever' 'french_bulldog'\n",
      " 'german_shepherd' 'german_short-haired_pointer' 'giant_schnauzer'\n",
      " 'golden_retriever' 'gordon_setter' 'great_dane' 'great_pyrenees'\n",
      " 'greater_swiss_mountain_dog' 'groenendael' 'ibizan_hound' 'irish_setter'\n",
      " 'irish_terrier' 'irish_water_spaniel' 'irish_wolfhound'\n",
      " 'italian_greyhound' 'japanese_spaniel' 'keeshond' 'kelpie'\n",
      " 'kerry_blue_terrier' 'komondor' 'kuvasz' 'labrador_retriever'\n",
      " 'lakeland_terrier' 'leonberg' 'lhasa' 'malamute' 'malinois' 'maltese_dog'\n",
      " 'mexican_hairless' 'miniature_pinscher' 'miniature_poodle'\n",
      " 'miniature_schnauzer' 'newfoundland' 'norfolk_terrier'\n",
      " 'norwegian_elkhound' 'norwich_terrier' 'old_english_sheepdog'\n",
      " 'otterhound' 'papillon' 'pekinese' 'pembroke' 'pomeranian' 'pug'\n",
      " 'redbone' 'rhodesian_ridgeback' 'rottweiler' 'saint_bernard' 'saluki'\n",
      " 'samoyed' 'schipperke' 'scotch_terrier' 'scottish_deerhound'\n",
      " 'sealyham_terrier' 'shetland_sheepdog' 'shih-tzu' 'siberian_husky'\n",
      " 'silky_terrier' 'soft-coated_wheaten_terrier' 'staffordshire_bullterrier'\n",
      " 'standard_poodle' 'standard_schnauzer' 'sussex_spaniel' 'tibetan_mastiff'\n",
      " 'tibetan_terrier' 'toy_poodle' 'toy_terrier' 'vizsla' 'walker_hound'\n",
      " 'weimaraner' 'welsh_springer_spaniel' 'west_highland_white_terrier'\n",
      " 'whippet' 'wire-haired_fox_terrier' 'yorkshire_terrier']\n"
     ]
    }
   ],
   "source": [
    "all_breeds = labels_df.sort_values(by = \"breed\").filter(['breed']).drop_duplicates().reset_index(drop = True)\n",
    "print('Number of dog breeds: %s' % len(all_breeds.breed))\n",
    "print(\"\\nList of Unique Breeds:\")\n",
    "print(all_breeds.breed.unique())"
   ]
  },
  {
   "cell_type": "markdown",
   "metadata": {},
   "source": [
    "# Exploratory data analysis (EDA)\n",
    "Because the data is explicitly labeled images of dog breeds, graphic options for EDA are somewhat limited.\n",
    "\n",
    "In this section we will evaluate the balance of the classes using a histogram. In the writeup, we will include sample images displaying the range of image types that are contained within this dataset (eg. pictures with multiple dogs, varying levels of zoom/blur, other animals, etc)."
   ]
  },
  {
   "cell_type": "code",
   "execution_count": 6,
   "metadata": {},
   "outputs": [
    {
     "data": {
      "image/png": "[encoded data removed]",
      "text/plain": [
       "<Figure size 1584x720 with 1 Axes>"
      ]
     },
     "metadata": {
      "needs_background": "light"
     },
     "output_type": "display_data"
    }
   ],
   "source": [
    "fig,ax = plt.subplots(figsize=(22,10));\n",
    "ax.margins(x=.01);\n",
    "sns.histplot(data=labels_df,x=labels_df.breed.sort_values(),ax=ax);\n",
    "plt.title(\"Histogram of Dog Breed Counts\")\n",
    "plt.xticks(rotation=90);\n",
    "plt.xlabel(\"Breed\");"
   ]
  },
  {
   "cell_type": "markdown",
   "metadata": {},
   "source": [
    "# Data Preprocessing\n",
    "First we will use the ImageDataGenerator class from the keras library to perform data augmentation on the images in the dataset. The generator applies a series of random transformations to each image in the batch and replaces the training images with a set of new images for future usage in model training.\n",
    "\n",
    "Several transformations are possible using the ImageDataGenerator function, but because of the large number of images already present in the training dataset, the team opted to only apply the horizontal_flip transformation to augment the training data. More augmentations would theoretically increase the accuracy of the model for predicting unlabeled images, but the additional computational cost is not justifiable for the purposes of this exploration."
   ]
  },
  {
   "cell_type": "code",
   "execution_count": 7,
   "metadata": {},
   "outputs": [],
   "source": [
    "train_datagen = ImageDataGenerator(rescale = 1./255.,\n",
    "                                   horizontal_flip = True,\n",
    "                                   validation_split = 0.1\n",
    "                                   #rotation_range = 20,\n",
    "                                   #brightness_range=[0.2,1.0],\n",
    "                                   #width_shift_range = 0.2,\n",
    "                                   #height_shift_range = 0.2,\n",
    "                                   #shear_range = 0.2,\n",
    "                                   #zoom_range = [0.7,1]\n",
    ")"
   ]
  },
  {
   "cell_type": "markdown",
   "metadata": {},
   "source": [
    "We will also split our dataset into train and test datasets, using a ratio of 85/15 train/test. Though the original datasource contains a test dataset, the data is unlabeled, and for this exploration the decision was made to evaluate the model on labeled test data. \n",
    "\n",
    "We split the labels_df dataframe into training and test sets by utilizing the .sample() function in pandas."
   ]
  },
  {
   "cell_type": "code",
   "execution_count": 8,
   "metadata": {},
   "outputs": [],
   "source": [
    "img_size = (331, 331)\n",
    "def append_ext(fn):\n",
    "    return fn+\".jpg\"\n",
    "\n",
    "all_df = labels_df.copy()\n",
    "all_df['id'] = all_df['id'].apply(append_ext)\n",
    "train_df = all_df.sample(frac = .85, random_state = 13)\n",
    "test_df = all_df[~all_df.isin(train_df)].dropna()"
   ]
  },
  {
   "cell_type": "code",
   "execution_count": 9,
   "metadata": {},
   "outputs": [
    {
     "name": "stdout",
     "output_type": "stream",
     "text": [
      "(8689, 2)\n",
      "(1533, 2)\n"
     ]
    }
   ],
   "source": [
    "print(train_df.shape)\n",
    "print(test_df.shape)"
   ]
  },
  {
   "cell_type": "code",
   "execution_count": 10,
   "metadata": {},
   "outputs": [
    {
     "name": "stdout",
     "output_type": "stream",
     "text": [
      "Found 7821 validated image filenames belonging to 120 classes.\n"
     ]
    }
   ],
   "source": [
    "#Generate batches of augmented data\n",
    "train_generator = train_datagen.flow_from_dataframe(\n",
    "    dataframe = train_df,\n",
    "    directory = train_path,\n",
    "    x_col = \"id\",\n",
    "    y_col = \"breed\",\n",
    "    subset = \"training\",\n",
    "    seed = 13,\n",
    "    shuffle = True,\n",
    "    class_mode = \"categorical\",\n",
    "    target_size = img_size,\n",
    "    color_mode = \"rgb\" \n",
    ")"
   ]
  },
  {
   "cell_type": "code",
   "execution_count": 11,
   "metadata": {},
   "outputs": [
    {
     "name": "stdout",
     "output_type": "stream",
     "text": [
      "Found 868 validated image filenames belonging to 120 classes.\n"
     ]
    }
   ],
   "source": [
    "valid_generator = train_datagen.flow_from_dataframe(\n",
    "    dataframe = train_df,\n",
    "    directory = train_path,\n",
    "    x_col = \"id\",\n",
    "    y_col = \"breed\",\n",
    "    subset = \"validation\",\n",
    "    seed = 13,\n",
    "    shuffle = True,\n",
    "    class_mode=\"categorical\",\n",
    "    target_size = img_size,\n",
    "    color_mode = \"rgb\"\n",
    ")"
   ]
  },
  {
   "cell_type": "code",
   "execution_count": 12,
   "metadata": {},
   "outputs": [
    {
     "name": "stdout",
     "output_type": "stream",
     "text": [
      "Found 1533 validated image filenames.\n"
     ]
    }
   ],
   "source": [
    "#Instatiate ImageDataGenerator class for test data\n",
    "test_datagen = ImageDataGenerator(rescale=1./255.)\n",
    "\n",
    "test_generator=test_datagen.flow_from_dataframe(\n",
    "    dataframe = test_df,\n",
    "    directory = train_path,\n",
    "    x_col=\"id\",\n",
    "    y_col = None,\n",
    "    seed = 13,\n",
    "    shuffle = False,\n",
    "    class_mode = None,\n",
    "    target_size = img_size,\n",
    "    color_mode=\"rgb\"\n",
    ")"
   ]
  },
  {
   "cell_type": "markdown",
   "metadata": {},
   "source": [
    "# Model Building\n",
    "We are now ready to build our neural network using keras.\n",
    "\n",
    "In order to do this, we will use transfer learning as a design methodology. In transfer learning, the knowledge of pretrained machine learning model is applied to a different but related problem. The general idea is to use the knowledge a model has learned from a task with a lot of available labeled training data in a new task that doesn't have much data. This allows us to save on both computation and time costs when training a new model.\n",
    "\n",
    "For this exploration, we will employ NASNet-Large as a baselayer in our model.  \n",
    "NASNet-Large is a convolutional neural network that is trained on more than a million images from the ImageNet database (http://www.image-net.org). The network can classify images into 1,000 object categories, such as keyboard, mouse, pencil, and many animals. As a result, the network has learned rich feature representations for a wide range of images.\n",
    "\n",
    "The network has an image input size of 331-by-331."
   ]
  },
  {
   "cell_type": "code",
   "execution_count": 13,
   "metadata": {},
   "outputs": [],
   "source": [
    "shape = (331, 331, 3)\n",
    "\n",
    "pretrained_model = tf.keras.applications.NASNetLarge(\n",
    "        weights = 'imagenet',\n",
    "        include_top = False,\n",
    "        input_shape = shape\n",
    ")"
   ]
  },
  {
   "cell_type": "code",
   "execution_count": 14,
   "metadata": {},
   "outputs": [],
   "source": [
    "#Exclude NASNet-Large from subsequent model training\n",
    "pretrained_model.trainable = False"
   ]
  },
  {
   "cell_type": "markdown",
   "metadata": {},
   "source": [
    "Now we build our model by adding a GlobalAveragePooling2D layer on top of the pretrained model, followed by a Dense layer with 120 nodes for each of the dog breeds represented in our training data.\n",
    "\n",
    "GlobalAveragePooling2D applies average pooling on the spatial dimensions until each spatial dimension is one, and leaves other dimensions unchanged. This differs from Flatten, which will take a tensor of any shape and transform it into a one dimensional tensor. Based on research conducted online prior to constructing our model, the team learned that GlobalAveragePooling2D is a better choice for image classification neural networks in keras."
   ]
  },
  {
   "cell_type": "code",
   "execution_count": 15,
   "metadata": {},
   "outputs": [],
   "source": [
    "model = tf.keras.Sequential([ \n",
    "        pretrained_model,\n",
    "        tf.keras.layers.GlobalAveragePooling2D(),\n",
    "        tf.keras.layers.Dense(120, activation='softmax')\n",
    "])"
   ]
  },
  {
   "cell_type": "markdown",
   "metadata": {},
   "source": [
    "Several options exist for what optimizer to use when instatiating a keras CNN. While researching optimizer types, the discovery was made that Stochastic Gradient Descent (SGD) is often the least memory-intensive, which suits the constraints of this exploration given the inexpensive hardware upon which this code notebook was run.\n",
    "\n",
    "Within SGD, the momentum attribute accelerates gradient descent in the relevant direction and dampens oscillations."
   ]
  },
  {
   "cell_type": "code",
   "execution_count": 16,
   "metadata": {},
   "outputs": [
    {
     "name": "stdout",
     "output_type": "stream",
     "text": [
      "Model: \"sequential\"\n",
      "_________________________________________________________________\n",
      "Layer (type)                 Output Shape              Param #   \n",
      "=================================================================\n",
      "NASNet (Functional)          (None, 11, 11, 4032)      84916818  \n",
      "_________________________________________________________________\n",
      "global_average_pooling2d (Gl (None, 4032)              0         \n",
      "_________________________________________________________________\n",
      "dense (Dense)                (None, 120)               483960    \n",
      "=================================================================\n",
      "Total params: 85,400,778\n",
      "Trainable params: 483,960\n",
      "Non-trainable params: 84,916,818\n",
      "_________________________________________________________________\n"
     ]
    }
   ],
   "source": [
    "opt = tf.keras.optimizers.SGD(lr=1e-3, momentum=0.9)\n",
    "model.compile(optimizer = opt,\n",
    "              loss=\"categorical_crossentropy\",\n",
    "              metrics=[\"accuracy\"])\n",
    "model.summary()"
   ]
  },
  {
   "cell_type": "markdown",
   "metadata": {},
   "source": [
    "Early stopping is a tool within keras that helps to shorten runtime when no discernable improvement is made between epochs.\n",
    "\n",
    "The proceeding keras model has 8 epochs specified due to aforementioned computational/time constraints. As such, early stopping was not utilized in this exploration, as it would likely not get triggered given the low number of epochs.\n",
    "\n",
    "early = tf.keras.callbacks.EarlyStopping(patience=2,\n",
    "                                         min_delta=0.001,\n",
    "                                         restore_best_weights=True)"
   ]
  },
  {
   "cell_type": "markdown",
   "metadata": {},
   "source": [
    "## Model Fitting"
   ]
  },
  {
   "cell_type": "code",
   "execution_count": 17,
   "metadata": {},
   "outputs": [],
   "source": [
    "#Set step size for training and validation data\n",
    "train_step_size = train_generator.n//train_generator.batch_size\n",
    "valid_step_size = valid_generator.n//valid_generator.batch_size"
   ]
  },
  {
   "cell_type": "code",
   "execution_count": 18,
   "metadata": {},
   "outputs": [
    {
     "name": "stdout",
     "output_type": "stream",
     "text": [
      "Epoch 1/8\n",
      "244/244 [==============================] - 3675s 15s/step - loss: 4.0890 - accuracy: 0.4831 - val_loss: 3.3252 - val_accuracy: 0.8785\n",
      "Epoch 2/8\n",
      "244/244 [==============================] - 3705s 15s/step - loss: 2.6215 - accuracy: 0.8997 - val_loss: 2.0476 - val_accuracy: 0.9155\n",
      "Epoch 3/8\n",
      "244/244 [==============================] - 3620s 15s/step - loss: 1.5783 - accuracy: 0.9204 - val_loss: 1.2560 - val_accuracy: 0.9155\n",
      "Epoch 4/8\n",
      "244/244 [==============================] - 3616s 15s/step - loss: 0.9975 - accuracy: 0.9269 - val_loss: 0.8438 - val_accuracy: 0.9259\n",
      "Epoch 5/8\n",
      "244/244 [==============================] - 3619s 15s/step - loss: 0.7043 - accuracy: 0.9318 - val_loss: 0.6362 - val_accuracy: 0.9294\n",
      "Epoch 6/8\n",
      "244/244 [==============================] - 3618s 15s/step - loss: 0.5468 - accuracy: 0.9339 - val_loss: 0.5213 - val_accuracy: 0.9294\n",
      "Epoch 7/8\n",
      "244/244 [==============================] - 3615s 15s/step - loss: 0.4589 - accuracy: 0.9354 - val_loss: 0.4512 - val_accuracy: 0.9340\n",
      "Epoch 8/8\n",
      "244/244 [==============================] - 3607s 15s/step - loss: 0.3997 - accuracy: 0.9389 - val_loss: 0.4084 - val_accuracy: 0.9294\n",
      "CPU times: user 16h 36min 58s, sys: 17h 57min 28s, total: 1d 10h 34min 27s\n",
      "Wall time: 8h 4min 35s\n"
     ]
    }
   ],
   "source": [
    "%%time\n",
    "history = model.fit(train_generator,\n",
    "                    steps_per_epoch = train_step_size,\n",
    "                    validation_data = valid_generator,\n",
    "                    validation_steps = valid_step_size,\n",
    "                    epochs = 8)"
   ]
  },
  {
   "cell_type": "code",
   "execution_count": 20,
   "metadata": {},
   "outputs": [
    {
     "name": "stderr",
     "output_type": "stream",
     "text": [
      "WARNING:absl:Function `_wrapped_model` contains input name(s) NASNet_input with unsupported characters which will be renamed to nasnet_input in the SavedModel.\n"
     ]
    },
    {
     "name": "stdout",
     "output_type": "stream",
     "text": [
      "INFO:tensorflow:Assets written to: data/new_model/assets\n"
     ]
    },
    {
     "name": "stderr",
     "output_type": "stream",
     "text": [
      "INFO:tensorflow:Assets written to: data/new_model/assets\n"
     ]
    }
   ],
   "source": [
    "tf.keras.models.save_model(model, filepath = \"data/new_model\")"
   ]
  },
  {
   "cell_type": "markdown",
   "metadata": {},
   "source": [
    "# Model Evaluation / Visualizations\n",
    "We will evaluate our model using the built-in evaluate() function, which returns both the loss and the accuracy of the final epoch."
   ]
  },
  {
   "cell_type": "code",
   "execution_count": 21,
   "metadata": {},
   "outputs": [
    {
     "name": "stdout",
     "output_type": "stream",
     "text": [
      "28/28 [==============================] - 387s 14s/step - loss: 0.4067 - accuracy: 0.9332\n",
      "Accuracy: 93.32%\n",
      "Loss:  0.40672847628593445\n",
      "CPU times: user 12min 35s, sys: 13min 22s, total: 25min 58s\n",
      "Wall time: 6min 27s\n"
     ]
    }
   ],
   "source": [
    "%%time\n",
    "score = model.evaluate(valid_generator)\n",
    "print(\"Accuracy: {:.2f}%\".format(score[1] * 100)) \n",
    "print(\"Loss: \", score[0])"
   ]
  },
  {
   "cell_type": "markdown",
   "metadata": {},
   "source": [
    "By visually inspecting the curves for model loss and model accuracy for the training and validation data, we can see that the metrics only marginally improve beyond the third epoch."
   ]
  },
  {
   "cell_type": "code",
   "execution_count": 14,
   "metadata": {},
   "outputs": [],
   "source": [
    "#Hard-coding values from each epoch for plotting purposes (necessary to plot without re-running the model)\n",
    "# loss = [4.089,2.6215,1.5783,0.9975,0.7043,0.5468,0.4589,0.3997]\n",
    "# accuracy = [0.4831,0.8997,0.9204,0.9269,0.9318,0.9339,0.9354,0.9389]\n",
    "# val_loss = [3.3252,2.0476,1.256,0.8438,0.6362,0.5213,0.4512,0.4084]\n",
    "# val_accuracy = [0.8785,0.9155,0.9155,0.9259,0.9294,0.9294,0.934,0.9294] \n",
    "\n",
    "loss = history.history['loss']\n",
    "accuracy = history.history['accuracy']\n",
    "val_loss = history.history['val_loss']\n",
    "val_accuracy = history.history['val_accuracy']"
   ]
  },
  {
   "cell_type": "code",
   "execution_count": 15,
   "metadata": {},
   "outputs": [
    {
     "data": {
      "image/png": "[encoded data removed]",
      "text/plain": [
       "<Figure size 576x720 with 2 Axes>"
      ]
     },
     "metadata": {
      "needs_background": "light"
     },
     "output_type": "display_data"
    }
   ],
   "source": [
    "fig,ax = plt.subplots(2,1,figsize=(8,10))\n",
    "\n",
    "#LOSS\n",
    "ax[0].plot(loss)\n",
    "ax[0].plot(val_loss)\n",
    "ax[0].set_title('Model Loss (8 Epochs)')\n",
    "ax[0].set_ylabel('Loss')\n",
    "ax[0].set_xlabel('Epoch')\n",
    "ax[0].legend(['train','validation'])\n",
    "\n",
    "#LOSS\n",
    "ax[1].plot(accuracy)\n",
    "ax[1].plot(val_accuracy)\n",
    "ax[1].set_title('Model Accuracy (8 Epochs)')\n",
    "ax[1].set_ylabel('Accuracy')\n",
    "ax[1].set_xlabel('Epoch')\n",
    "ax[1].legend(['train','validation'])\n",
    "\n",
    "plt.tight_layout()"
   ]
  },
  {
   "cell_type": "markdown",
   "metadata": {},
   "source": [
    "## Prediction on Test Data"
   ]
  },
  {
   "cell_type": "code",
   "execution_count": 22,
   "metadata": {},
   "outputs": [
    {
     "name": "stdout",
     "output_type": "stream",
     "text": [
      "Shape of Test Prediction Dataframe: (1533, 120)\n",
      "CPU times: user 22min 24s, sys: 23min 58s, total: 46min 22s\n",
      "Wall time: 11min 25s\n"
     ]
    }
   ],
   "source": [
    "%%time\n",
    "pred = model.predict(test_generator)\n",
    "print(\"Shape of Test Prediction Dataframe:\",pred.shape)"
   ]
  },
  {
   "cell_type": "code",
   "execution_count": 23,
   "metadata": {},
   "outputs": [
    {
     "data": {
      "text/html": [
       "<div>\n",
       "<style scoped>\n",
       "    .dataframe tbody tr th:only-of-type {\n",
       "        vertical-align: middle;\n",
       "    }\n",
       "\n",
       "    .dataframe tbody tr th {\n",
       "        vertical-align: top;\n",
       "    }\n",
       "\n",
       "    .dataframe thead th {\n",
       "        text-align: right;\n",
       "    }\n",
       "</style>\n",
       "<table border=\"1\" class=\"dataframe\">\n",
       "  <thead>\n",
       "    <tr style=\"text-align: right;\">\n",
       "      <th>breed</th>\n",
       "      <th>affenpinscher</th>\n",
       "      <th>afghan_hound</th>\n",
       "      <th>african_hunting_dog</th>\n",
       "      <th>airedale</th>\n",
       "      <th>american_staffordshire_terrier</th>\n",
       "      <th>appenzeller</th>\n",
       "      <th>australian_terrier</th>\n",
       "      <th>basenji</th>\n",
       "      <th>basset</th>\n",
       "      <th>beagle</th>\n",
       "      <th>...</th>\n",
       "      <th>toy_poodle</th>\n",
       "      <th>toy_terrier</th>\n",
       "      <th>vizsla</th>\n",
       "      <th>walker_hound</th>\n",
       "      <th>weimaraner</th>\n",
       "      <th>welsh_springer_spaniel</th>\n",
       "      <th>west_highland_white_terrier</th>\n",
       "      <th>whippet</th>\n",
       "      <th>wire-haired_fox_terrier</th>\n",
       "      <th>yorkshire_terrier</th>\n",
       "    </tr>\n",
       "  </thead>\n",
       "  <tbody>\n",
       "    <tr>\n",
       "      <th>0</th>\n",
       "      <td>0.005386</td>\n",
       "      <td>0.001980</td>\n",
       "      <td>0.002894</td>\n",
       "      <td>0.000864</td>\n",
       "      <td>0.002422</td>\n",
       "      <td>0.003500</td>\n",
       "      <td>0.001501</td>\n",
       "      <td>0.002761</td>\n",
       "      <td>0.002982</td>\n",
       "      <td>0.001835</td>\n",
       "      <td>...</td>\n",
       "      <td>0.006440</td>\n",
       "      <td>0.009699</td>\n",
       "      <td>0.001963</td>\n",
       "      <td>0.001460</td>\n",
       "      <td>0.003415</td>\n",
       "      <td>0.001771</td>\n",
       "      <td>0.004746</td>\n",
       "      <td>0.002410</td>\n",
       "      <td>0.001217</td>\n",
       "      <td>0.007073</td>\n",
       "    </tr>\n",
       "    <tr>\n",
       "      <th>1</th>\n",
       "      <td>0.000428</td>\n",
       "      <td>0.001618</td>\n",
       "      <td>0.000809</td>\n",
       "      <td>0.001055</td>\n",
       "      <td>0.000401</td>\n",
       "      <td>0.000771</td>\n",
       "      <td>0.000233</td>\n",
       "      <td>0.000347</td>\n",
       "      <td>0.000762</td>\n",
       "      <td>0.000633</td>\n",
       "      <td>...</td>\n",
       "      <td>0.000356</td>\n",
       "      <td>0.000501</td>\n",
       "      <td>0.001139</td>\n",
       "      <td>0.000743</td>\n",
       "      <td>0.000487</td>\n",
       "      <td>0.000541</td>\n",
       "      <td>0.000559</td>\n",
       "      <td>0.000668</td>\n",
       "      <td>0.000988</td>\n",
       "      <td>0.000219</td>\n",
       "    </tr>\n",
       "    <tr>\n",
       "      <th>2</th>\n",
       "      <td>0.001842</td>\n",
       "      <td>0.001158</td>\n",
       "      <td>0.001117</td>\n",
       "      <td>0.002348</td>\n",
       "      <td>0.001085</td>\n",
       "      <td>0.001054</td>\n",
       "      <td>0.000528</td>\n",
       "      <td>0.001130</td>\n",
       "      <td>0.000793</td>\n",
       "      <td>0.001122</td>\n",
       "      <td>...</td>\n",
       "      <td>0.001161</td>\n",
       "      <td>0.000574</td>\n",
       "      <td>0.001311</td>\n",
       "      <td>0.000990</td>\n",
       "      <td>0.001089</td>\n",
       "      <td>0.000545</td>\n",
       "      <td>0.001222</td>\n",
       "      <td>0.001550</td>\n",
       "      <td>0.001749</td>\n",
       "      <td>0.000901</td>\n",
       "    </tr>\n",
       "    <tr>\n",
       "      <th>3</th>\n",
       "      <td>0.001764</td>\n",
       "      <td>0.001882</td>\n",
       "      <td>0.001362</td>\n",
       "      <td>0.001274</td>\n",
       "      <td>0.000971</td>\n",
       "      <td>0.001789</td>\n",
       "      <td>0.001874</td>\n",
       "      <td>0.001201</td>\n",
       "      <td>0.000899</td>\n",
       "      <td>0.000871</td>\n",
       "      <td>...</td>\n",
       "      <td>0.002847</td>\n",
       "      <td>0.001408</td>\n",
       "      <td>0.001432</td>\n",
       "      <td>0.001367</td>\n",
       "      <td>0.001303</td>\n",
       "      <td>0.002515</td>\n",
       "      <td>0.001220</td>\n",
       "      <td>0.002068</td>\n",
       "      <td>0.001477</td>\n",
       "      <td>0.002097</td>\n",
       "    </tr>\n",
       "    <tr>\n",
       "      <th>4</th>\n",
       "      <td>0.000865</td>\n",
       "      <td>0.001001</td>\n",
       "      <td>0.872062</td>\n",
       "      <td>0.001378</td>\n",
       "      <td>0.000973</td>\n",
       "      <td>0.001101</td>\n",
       "      <td>0.001760</td>\n",
       "      <td>0.000609</td>\n",
       "      <td>0.000827</td>\n",
       "      <td>0.000526</td>\n",
       "      <td>...</td>\n",
       "      <td>0.000937</td>\n",
       "      <td>0.000486</td>\n",
       "      <td>0.000688</td>\n",
       "      <td>0.000779</td>\n",
       "      <td>0.000904</td>\n",
       "      <td>0.001241</td>\n",
       "      <td>0.000815</td>\n",
       "      <td>0.001740</td>\n",
       "      <td>0.001633</td>\n",
       "      <td>0.001499</td>\n",
       "    </tr>\n",
       "  </tbody>\n",
       "</table>\n",
       "<p>5 rows × 120 columns</p>\n",
       "</div>"
      ],
      "text/plain": [
       "breed  affenpinscher  afghan_hound  african_hunting_dog  airedale  \\\n",
       "0           0.005386      0.001980             0.002894  0.000864   \n",
       "1           0.000428      0.001618             0.000809  0.001055   \n",
       "2           0.001842      0.001158             0.001117  0.002348   \n",
       "3           0.001764      0.001882             0.001362  0.001274   \n",
       "4           0.000865      0.001001             0.872062  0.001378   \n",
       "\n",
       "breed  american_staffordshire_terrier  appenzeller  australian_terrier  \\\n",
       "0                            0.002422     0.003500            0.001501   \n",
       "1                            0.000401     0.000771            0.000233   \n",
       "2                            0.001085     0.001054            0.000528   \n",
       "3                            0.000971     0.001789            0.001874   \n",
       "4                            0.000973     0.001101            0.001760   \n",
       "\n",
       "breed   basenji    basset    beagle  ...  toy_poodle  toy_terrier    vizsla  \\\n",
       "0      0.002761  0.002982  0.001835  ...    0.006440     0.009699  0.001963   \n",
       "1      0.000347  0.000762  0.000633  ...    0.000356     0.000501  0.001139   \n",
       "2      0.001130  0.000793  0.001122  ...    0.001161     0.000574  0.001311   \n",
       "3      0.001201  0.000899  0.000871  ...    0.002847     0.001408  0.001432   \n",
       "4      0.000609  0.000827  0.000526  ...    0.000937     0.000486  0.000688   \n",
       "\n",
       "breed  walker_hound  weimaraner  welsh_springer_spaniel  \\\n",
       "0          0.001460    0.003415                0.001771   \n",
       "1          0.000743    0.000487                0.000541   \n",
       "2          0.000990    0.001089                0.000545   \n",
       "3          0.001367    0.001303                0.002515   \n",
       "4          0.000779    0.000904                0.001241   \n",
       "\n",
       "breed  west_highland_white_terrier   whippet  wire-haired_fox_terrier  \\\n",
       "0                         0.004746  0.002410                 0.001217   \n",
       "1                         0.000559  0.000668                 0.000988   \n",
       "2                         0.001222  0.001550                 0.001749   \n",
       "3                         0.001220  0.002068                 0.001477   \n",
       "4                         0.000815  0.001740                 0.001633   \n",
       "\n",
       "breed  yorkshire_terrier  \n",
       "0               0.007073  \n",
       "1               0.000219  \n",
       "2               0.000901  \n",
       "3               0.002097  \n",
       "4               0.001499  \n",
       "\n",
       "[5 rows x 120 columns]"
      ]
     },
     "execution_count": 23,
     "metadata": {},
     "output_type": "execute_result"
    }
   ],
   "source": [
    "predicted_df = pd.DataFrame(pred, columns=all_breeds.breed)\n",
    "predicted_df.head()"
   ]
  },
  {
   "cell_type": "code",
   "execution_count": 24,
   "metadata": {},
   "outputs": [
    {
     "data": {
      "text/plain": [
       "1                 otterhound\n",
       "2            giant_schnauzer\n",
       "3                groenendael\n",
       "4        african_hunting_dog\n",
       "5    wire-haired_fox_terrier\n",
       "6                 schipperke\n",
       "7                     kelpie\n",
       "8                 pomeranian\n",
       "9                entlebucher\n",
       "dtype: object"
      ]
     },
     "execution_count": 24,
     "metadata": {},
     "output_type": "execute_result"
    }
   ],
   "source": [
    "#Return column index of each example based on max predicted probability across 120 breeds\n",
    "final_preds = predicted_df.idxmax(axis=1)\n",
    "final_preds[1:10]"
   ]
  },
  {
   "cell_type": "code",
   "execution_count": 25,
   "metadata": {},
   "outputs": [
    {
     "data": {
      "text/html": [
       "<div>\n",
       "<style scoped>\n",
       "    .dataframe tbody tr th:only-of-type {\n",
       "        vertical-align: middle;\n",
       "    }\n",
       "\n",
       "    .dataframe tbody tr th {\n",
       "        vertical-align: top;\n",
       "    }\n",
       "\n",
       "    .dataframe thead th {\n",
       "        text-align: right;\n",
       "    }\n",
       "</style>\n",
       "<table border=\"1\" class=\"dataframe\">\n",
       "  <thead>\n",
       "    <tr style=\"text-align: right;\">\n",
       "      <th></th>\n",
       "      <th>id</th>\n",
       "      <th>breed</th>\n",
       "      <th>predicted_breed</th>\n",
       "    </tr>\n",
       "  </thead>\n",
       "  <tbody>\n",
       "    <tr>\n",
       "      <th>0</th>\n",
       "      <td>001cdf01b096e06d78e9e5112d419397.jpg</td>\n",
       "      <td>pekinese</td>\n",
       "      <td>pekinese</td>\n",
       "    </tr>\n",
       "    <tr>\n",
       "      <th>1</th>\n",
       "      <td>008ba178d6dfc1a583617470d19c1673.jpg</td>\n",
       "      <td>otterhound</td>\n",
       "      <td>otterhound</td>\n",
       "    </tr>\n",
       "    <tr>\n",
       "      <th>2</th>\n",
       "      <td>00fda6ecca54efbac26e907be4b0b78b.jpg</td>\n",
       "      <td>giant_schnauzer</td>\n",
       "      <td>giant_schnauzer</td>\n",
       "    </tr>\n",
       "    <tr>\n",
       "      <th>3</th>\n",
       "      <td>010e87fdf252645a827e37470e65e842.jpg</td>\n",
       "      <td>groenendael</td>\n",
       "      <td>groenendael</td>\n",
       "    </tr>\n",
       "    <tr>\n",
       "      <th>4</th>\n",
       "      <td>014c2b0cd8e3b517e649cecf8543b8fe.jpg</td>\n",
       "      <td>african_hunting_dog</td>\n",
       "      <td>african_hunting_dog</td>\n",
       "    </tr>\n",
       "  </tbody>\n",
       "</table>\n",
       "</div>"
      ],
      "text/plain": [
       "                                     id                breed  \\\n",
       "0  001cdf01b096e06d78e9e5112d419397.jpg             pekinese   \n",
       "1  008ba178d6dfc1a583617470d19c1673.jpg           otterhound   \n",
       "2  00fda6ecca54efbac26e907be4b0b78b.jpg      giant_schnauzer   \n",
       "3  010e87fdf252645a827e37470e65e842.jpg          groenendael   \n",
       "4  014c2b0cd8e3b517e649cecf8543b8fe.jpg  african_hunting_dog   \n",
       "\n",
       "       predicted_breed  \n",
       "0             pekinese  \n",
       "1           otterhound  \n",
       "2      giant_schnauzer  \n",
       "3          groenendael  \n",
       "4  african_hunting_dog  "
      ]
     },
     "execution_count": 25,
     "metadata": {},
     "output_type": "execute_result"
    }
   ],
   "source": [
    "#Append predictions to test_df\n",
    "final_pred_df = test_df.copy()\n",
    "final_pred_df.reset_index(drop = True, inplace = True)\n",
    "final_pred_df['predicted_breed'] = final_preds\n",
    "final_pred_df.head()"
   ]
  },
  {
   "cell_type": "code",
   "execution_count": 26,
   "metadata": {},
   "outputs": [
    {
     "name": "stdout",
     "output_type": "stream",
     "text": [
      "Correctly classified 1433/1533 dog breeds leaving 100 misclassified.\n",
      "Test Set Accuracy: 93.47684279191128\n"
     ]
    }
   ],
   "source": [
    "misclassified_tot = final_pred_df.query(\"breed != predicted_breed\").shape[0]\n",
    "correct_tot = final_pred_df.query(\"breed == predicted_breed\").shape[0]\n",
    "total_attempted = final_pred_df.shape[0]\n",
    "print(f\"Correctly classified {correct_tot}/{total_attempted} dog breeds leaving {misclassified_tot} misclassified.\")\n",
    "print(f\"Test Set Accuracy: {correct_tot/total_attempted*100}\")"
   ]
  },
  {
   "cell_type": "markdown",
   "metadata": {},
   "source": [
    "# Conclusion\n",
    "The model returned an accuracy of ~93.5% when predicting dog breeds on unseen test data. Given the large number of classes, the relative similarity in appearance between multiple dog breeds, and the variation of picture inputs, this is an excellent result.\n",
    "\n",
    "The visualizations presented above relating to loss and accuracy show that the CNN created in keras yielded an acceptable performance after around 2 epochs during training. This is most likely attributable to the usage of the NASNet-Large pretrained layers implemented in the model, which saved the model from having to retrain over 80 million parameters. "
   ]
  },
  {
   "cell_type": "markdown",
   "metadata": {},
   "source": [
    "# Future Analysis\n"
   ]
  },
  {
   "cell_type": "markdown",
   "metadata": {},
   "source": [
    "This foray merely scratches the surface of what is possible with CNNs. Because of the cumbersome computational complexity and subsequent runtime associated with training the model, large-scale hyperparameter tuning was infeasible. Further routes of exploration relating to hyperparameter tuning include:\n",
    "* Changing the ratio between the training and validation sets specified in the model initialization phase\n",
    "* Adding to the data augmentation step implemented with the ImageDataGenerator class\n",
    "* Changing the model blueprint itself vis a vis adding layers/nodes\n",
    "* Uncountable others\n",
    "\n",
    "As an attempt to bring value to theoretical stakeholders in this exploration, the team delved into creating a standalone webapp by which a user would upload a picture of their dog, and the trained model would yield a prediction as to its most-likely breed among the 120 breeds that the model had learned. A brief overview of the application is available in the accompanying whitepaper / presentation."
   ]
  },
  {
   "cell_type": "markdown",
   "metadata": {},
   "source": [
    "# Citations\n",
    "The following links were used for research purposes and to supplement this project:  \n",
    "* https://www.kaggle.com/c/dog-breed-identification/overview\n",
    "* https://www.kaggle.com/jithinanievarghese/dog-breed-identification-keras-nasnetlarge-93-63/notebook#Data-preprocessing\n",
    "* https://www.researchgate.net/post/what_is_the_difference_between_validation_set_and_test_set\n",
    "* https://www.dlology.com/blog/quick-notes-on-how-to-choose-optimizer-in-keras/\n",
    "* https://stackoverflow.com/questions/34518656/how-to-interpret-loss-and-accuracy-for-a-machine-learning-model\n",
    "* https://keras.io/\n",
    "* https://www.tensorflow.org/guide/keras/sequential_model\n",
    "* https://lionbridge.ai/articles/difference-between-cnn-and-rnn/"
   ]
  }
 ],
 "metadata": {
  "kernelspec": {
   "display_name": "Python 3",
   "language": "python",
   "name": "python3"
  },
  "language_info": {
   "codemirror_mode": {
    "name": "ipython",
    "version": 3
   },
   "file_extension": ".py",
   "mimetype": "text/x-python",
   "name": "python",
   "nbconvert_exporter": "python",
   "pygments_lexer": "ipython3",
   "version": "3.8.5"
  }
 },
 "nbformat": 4,
 "nbformat_minor": 4
}
